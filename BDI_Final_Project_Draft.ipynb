{
  "nbformat": 4,
  "nbformat_minor": 0,
  "metadata": {
    "colab": {
      "name": "BDI Final Project Draft",
      "provenance": [],
      "authorship_tag": "ABX9TyOsswMVk6hxkIej66AXMZxc",
      "include_colab_link": true
    },
    "kernelspec": {
      "name": "python3",
      "display_name": "Python 3"
    },
    "language_info": {
      "name": "python"
    }
  },
  "cells": [
    {
      "cell_type": "markdown",
      "metadata": {
        "id": "view-in-github",
        "colab_type": "text"
      },
      "source": [
        "<a href=\"https://colab.research.google.com/github/mlian4/BDIFinal-CovidVaccine/blob/main/BDI_Final_Project_Draft.ipynb\" target=\"_parent\"><img src=\"https://colab.research.google.com/assets/colab-badge.svg\" alt=\"Open In Colab\"/></a>"
      ]
    },
    {
      "cell_type": "code",
      "metadata": {
        "id": "IVAQRTZKrx6d"
      },
      "source": [
        "#For this project I will use the dataset from the following link:\n",
        "https://www.kaggle.com/gpreda/covid-world-vaccination-progress?select=country_vaccinations.csv\n",
        "\n",
        "The data is collected for Covid-19 regarding country vaccination and contains the following information:\n",
        "-Country \n",
        "-Country ISO Code\n",
        "-Date\n",
        "-Total Number of Vaccinations\n",
        "-Total Number of People vaccianted \n",
        "-Total number of people fully vaccinated \n",
        "-Daily vaccinations (raw)\n",
        "-Daily vaccinations\n",
        "-Total vaccinations per hundred \n",
        "-Total number of people fully vaccinatd per hundred \n",
        "-Number of vaccinations per day \n",
        "-Daily vaccinations per million \n",
        "-Vaccine used in the country \n",
        "-Source name \n",
        "-Source Website \n",
        "-Location \n",
        "-Date\n",
        "-Vaccine Type \n"
      ],
      "execution_count": null,
      "outputs": []
    },
    {
      "cell_type": "markdown",
      "metadata": {
        "id": "zDpF09yjzOii"
      },
      "source": [
        "The information in the dateset is relevant to the topics I want to establish my project around. \n"
      ]
    },
    {
      "cell_type": "markdown",
      "metadata": {
        "id": "6JNA6BQ9znS4"
      },
      "source": [
        "All in all, I will use applications I've learned in class: python, pandas, plotly, and Tableau to answer the central question: \n",
        "\n",
        "How is the progress of the Covid-19 Vacine across the world?\n"
      ]
    },
    {
      "cell_type": "markdown",
      "metadata": {
        "id": "Q4S4F07C0D15"
      },
      "source": [
        "Other potential questions to be answered using python and data visualization:\n",
        "1. What are the top 10 countries furthest in vaccination progress?\n",
        "2. Sort vaccine used in the country (most used vaccine)?\n",
        "3. Relationship between total number of vaccinations and total number of people vaccinated\n",
        "4. Discrepancies between total number of people vaccinated and total number of people fully vaccinated \n"
      ]
    }
  ]
}